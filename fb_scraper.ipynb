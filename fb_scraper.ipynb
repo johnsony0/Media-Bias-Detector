{
 "cells": [
  {
   "cell_type": "code",
   "execution_count": 1,
   "metadata": {},
   "outputs": [],
   "source": [
    "from selenium import webdriver\n",
    "from selenium.webdriver.chrome.options import Options\n",
    "from selenium.webdriver.common.by import By\n",
    "import time\n",
    "import psycopg2\n",
    "import os\n",
    "import json\n",
    "import re"
   ]
  },
  {
   "cell_type": "code",
   "execution_count": 2,
   "metadata": {},
   "outputs": [],
   "source": [
    "def create_connection():\n",
    "    conn = psycopg2.connect(\n",
    "        database = os.getenv('DB_NAME'),\n",
    "        host = os.getenv('DB_HOST'),\n",
    "        user = os.getenv('DB_USER'),\n",
    "        password = os.getenv('DB_PASSWORD'),\n",
    "        port = os.getenv('5432')\n",
    "    )\n",
    "\n",
    "    cursor = conn.cursor()\n",
    "\n",
    "    return conn, cursor"
   ]
  },
  {
   "cell_type": "code",
   "execution_count": 3,
   "metadata": {},
   "outputs": [],
   "source": [
    "def create_fb_data_table():\n",
    "    #create connection to db\n",
    "    conn, cursor = create_connection()\n",
    "\n",
    "    table_check_sql = \"\"\"\n",
    "    SELECT EXISTS (\n",
    "        SELECT FROM pg_tables \n",
    "        WHERE schemaname = 'public' \n",
    "        AND tablename = 'fb_data'\n",
    "    );\n",
    "    \"\"\"\n",
    "\n",
    "    create_table_sql = \"\"\"\n",
    "            CREATE TABLE fb_data (\n",
    "                id SERIAL PRIMARY KEY,\n",
    "                text TEXT NOT NULL,\n",
    "                source TEXT NOT NULL,\n",
    "                UNIQUE (text)\n",
    "            );\n",
    "            \"\"\"\n",
    "    try:\n",
    "        cursor.execute(table_check_sql)\n",
    "        table_exists = cursor.fetchone()[0]\n",
    "        if not table_exists:\n",
    "            cursor.execute(create_table_sql)\n",
    "            conn.commit()\n",
    "            print(\"Table created successfully\")\n",
    "        else:\n",
    "            print(\"Table exists\")\n",
    "    except (Exception, psycopg2.DatabaseError) as error:\n",
    "        print(error)\n",
    "\n",
    "    cursor.close()\n",
    "    conn.close()"
   ]
  },
  {
   "cell_type": "code",
   "execution_count": 4,
   "metadata": {},
   "outputs": [],
   "source": [
    "def get_facebook_posts(username, post_count_break):\n",
    "    options = Options()\n",
    "    options.headless = True\n",
    "    driver = webdriver.ChromiumEdge(options=options)\n",
    "\n",
    "    driver.get(f\"https://www.facebook.com/{username}/posts\")\n",
    "\n",
    "    keywords = {\n",
    "        \"election\", \"vote\", \"voting\", \"candidate\", \"campaign\",\n",
    "        \"politician\", \"politics\", \"government\", \"congress\", \"senate\", \n",
    "        \"house of representatives\", \"white house\", \"president\", \n",
    "        \"vice president\", \"democrat\", \"republican\", \"liberal\", \"conservative\",\n",
    "        \"policy\", \"legislation\", \"bill\", \"law\", \"executive order\", \"constitution\",\n",
    "        \"supreme court\", \"judiciary\", \"governor\", \"mayor\", \"local government\",\n",
    "        \"senator\", \"representative\", \"parliament\", \"prime minister\", \"ambassador\",\n",
    "        \"diplomacy\", \"foreign policy\", \"domestic policy\", \"budget\", \"taxes\", \"taxation\",\n",
    "        \"healthcare\", \"immigration\", \"border\", \"national security\", \"military\",\n",
    "        \"war\", \"conflict\", \"peace\", \"international relations\", \"trade\", \"sanctions\",\n",
    "        \"lobbying\", \"political party\", \"activism\", \"protest\", \"movement\", \"rights\",\n",
    "        \"freedom\", \"civil rights\", \"human rights\", \"reform\", \n",
    "        \"corruption\", \"scandal\", \"ethics\", \"voter suppression\", \"gerrymandering\",\n",
    "        \"climate change\", \"environmental policy\", \"energy policy\", \"education policy\",\n",
    "        \"economic policy\", \"labor\", \"wages\", \"social security\", \"medicare\", \"medicaid\",\n",
    "        \"welfare\", \"public assistance\", \"subsidy\", \"entitlement\", \"budget deficit\",\n",
    "        \"debt ceiling\", \"public debt\", \"federal reserve\", \"central bank\", \"inflation\",\n",
    "        \"unemployment\", \"job creation\", \"economic growth\", \"GDP\", \"trade deficit\",\n",
    "        \"export\", \"import\", \"tariff\", \"free trade\", \"fair trade\", \"monetary policy\",\n",
    "        \"fiscal policy\", \"regulation\", \"deregulation\", \"privatization\", \"nationalization\",\n",
    "        \"kamala\", \"trump\", \"vance\", \"walz\", \"democrats\", \"republicans\"\n",
    "    }\n",
    "\n",
    "    insert_sql = \"\"\"\n",
    "    INSERT INTO fb_data (\n",
    "        text, source\n",
    "    ) VALUES (\n",
    "        %s, %s\n",
    "    )\n",
    "    \"\"\"\n",
    "\n",
    "    seen_posts = set()\n",
    "    conn,cursor = create_connection()\n",
    "    conn.autocommit = True\n",
    "    post_count = 0\n",
    "\n",
    "    while post_count < post_count_break:\n",
    "\n",
    "        for _ in range(10):\n",
    "            driver.execute_script(\"window.scrollTo(0, document.body.scrollHeight);\")\n",
    "            time.sleep(0.5)\n",
    "\n",
    "        elements = driver.find_elements(By.XPATH, '//div[@data-ad-preview=\"message\"]')\n",
    "        for element in elements:\n",
    "            content = element.text\n",
    "            if content not in seen_posts:\n",
    "                seen_posts.add(content)\n",
    "                found_keywords = []\n",
    "                for keyword in keywords:\n",
    "                    pattern = r'\\b' + re.escape(keyword) + r'\\b'\n",
    "                    if re.search(pattern, content, re.IGNORECASE):\n",
    "                        found_keywords.append(keyword)\n",
    "\n",
    "                if found_keywords:\n",
    "                    try:\n",
    "                        cursor.execute(insert_sql,(content, username))\n",
    "                        post_count+=1\n",
    "                    except(Exception, psycopg2.DatabaseError) as error:\n",
    "                        print(error)\n",
    "\n",
    "\n",
    "    driver.quit()\n",
    "    conn.close()\n",
    "    cursor.close()    "
   ]
  },
  {
   "cell_type": "code",
   "execution_count": 5,
   "metadata": {},
   "outputs": [
    {
     "name": "stdout",
     "output_type": "stream",
     "text": [
      "Table exists\n"
     ]
    },
    {
     "ename": "NoSuchWindowException",
     "evalue": "Message: no such window: target window already closed\nfrom unknown error: web view not found\n  (Session info: chrome=128.0.6613.86)\nStacktrace:\n\tGetHandleVerifier [0x00007FF6E965B632+29090]\n\t(No symbol) [0x00007FF6E95CE6E9]\n\t(No symbol) [0x00007FF6E948B1CA]\n\t(No symbol) [0x00007FF6E945FAF5]\n\t(No symbol) [0x00007FF6E950E2E7]\n\t(No symbol) [0x00007FF6E9525EE1]\n\t(No symbol) [0x00007FF6E9506493]\n\t(No symbol) [0x00007FF6E94D09B1]\n\t(No symbol) [0x00007FF6E94D1B11]\n\tGetHandleVerifier [0x00007FF6E997883D+3294125]\n\tGetHandleVerifier [0x00007FF6E99C4423+3604371]\n\tGetHandleVerifier [0x00007FF6E99BA2E7+3563095]\n\tGetHandleVerifier [0x00007FF6E9716F16+797318]\n\t(No symbol) [0x00007FF6E95D986F]\n\t(No symbol) [0x00007FF6E95D5454]\n\t(No symbol) [0x00007FF6E95D55E0]\n\t(No symbol) [0x00007FF6E95C4A7F]\n\tBaseThreadInitThunk [0x00007FFC184D257D+29]\n\tRtlUserThreadStart [0x00007FFC19CAAF28+40]\n",
     "output_type": "error",
     "traceback": [
      "\u001b[1;31m---------------------------------------------------------------------------\u001b[0m",
      "\u001b[1;31mNoSuchWindowException\u001b[0m                     Traceback (most recent call last)",
      "Cell \u001b[1;32mIn[5], line 8\u001b[0m\n\u001b[0;32m      5\u001b[0m post_count_break \u001b[38;5;241m=\u001b[39m \u001b[38;5;241m1000\u001b[39m\n\u001b[0;32m      7\u001b[0m create_fb_data_table()\n\u001b[1;32m----> 8\u001b[0m \u001b[43mget_facebook_posts\u001b[49m\u001b[43m(\u001b[49m\u001b[43musername\u001b[49m\u001b[43m,\u001b[49m\u001b[43m \u001b[49m\u001b[43mpost_count_break\u001b[49m\u001b[43m)\u001b[49m\n",
      "Cell \u001b[1;32mIn[4], line 48\u001b[0m, in \u001b[0;36mget_facebook_posts\u001b[1;34m(username, post_count_break)\u001b[0m\n\u001b[0;32m     45\u001b[0m \u001b[38;5;28;01mwhile\u001b[39;00m post_count \u001b[38;5;241m<\u001b[39m post_count_break:\n\u001b[0;32m     47\u001b[0m     \u001b[38;5;28;01mfor\u001b[39;00m _ \u001b[38;5;129;01min\u001b[39;00m \u001b[38;5;28mrange\u001b[39m(\u001b[38;5;241m10\u001b[39m):\n\u001b[1;32m---> 48\u001b[0m         \u001b[43mdriver\u001b[49m\u001b[38;5;241;43m.\u001b[39;49m\u001b[43mexecute_script\u001b[49m\u001b[43m(\u001b[49m\u001b[38;5;124;43m\"\u001b[39;49m\u001b[38;5;124;43mwindow.scrollTo(0, document.body.scrollHeight);\u001b[39;49m\u001b[38;5;124;43m\"\u001b[39;49m\u001b[43m)\u001b[49m\n\u001b[0;32m     49\u001b[0m         time\u001b[38;5;241m.\u001b[39msleep(\u001b[38;5;241m0.5\u001b[39m)\n\u001b[0;32m     51\u001b[0m     elements \u001b[38;5;241m=\u001b[39m driver\u001b[38;5;241m.\u001b[39mfind_elements(By\u001b[38;5;241m.\u001b[39mXPATH, \u001b[38;5;124m'\u001b[39m\u001b[38;5;124m//div[@data-ad-preview=\u001b[39m\u001b[38;5;124m\"\u001b[39m\u001b[38;5;124mmessage\u001b[39m\u001b[38;5;124m\"\u001b[39m\u001b[38;5;124m]\u001b[39m\u001b[38;5;124m'\u001b[39m)\n",
      "File \u001b[1;32mc:\\.Work\\projects\\Media-Bias-Detector\\.venv\\Lib\\site-packages\\selenium\\webdriver\\remote\\webdriver.py:414\u001b[0m, in \u001b[0;36mWebDriver.execute_script\u001b[1;34m(self, script, *args)\u001b[0m\n\u001b[0;32m    411\u001b[0m converted_args \u001b[38;5;241m=\u001b[39m \u001b[38;5;28mlist\u001b[39m(args)\n\u001b[0;32m    412\u001b[0m command \u001b[38;5;241m=\u001b[39m Command\u001b[38;5;241m.\u001b[39mW3C_EXECUTE_SCRIPT\n\u001b[1;32m--> 414\u001b[0m \u001b[38;5;28;01mreturn\u001b[39;00m \u001b[38;5;28;43mself\u001b[39;49m\u001b[38;5;241;43m.\u001b[39;49m\u001b[43mexecute\u001b[49m\u001b[43m(\u001b[49m\u001b[43mcommand\u001b[49m\u001b[43m,\u001b[49m\u001b[43m \u001b[49m\u001b[43m{\u001b[49m\u001b[38;5;124;43m\"\u001b[39;49m\u001b[38;5;124;43mscript\u001b[39;49m\u001b[38;5;124;43m\"\u001b[39;49m\u001b[43m:\u001b[49m\u001b[43m \u001b[49m\u001b[43mscript\u001b[49m\u001b[43m,\u001b[49m\u001b[43m \u001b[49m\u001b[38;5;124;43m\"\u001b[39;49m\u001b[38;5;124;43margs\u001b[39;49m\u001b[38;5;124;43m\"\u001b[39;49m\u001b[43m:\u001b[49m\u001b[43m \u001b[49m\u001b[43mconverted_args\u001b[49m\u001b[43m}\u001b[49m\u001b[43m)\u001b[49m[\u001b[38;5;124m\"\u001b[39m\u001b[38;5;124mvalue\u001b[39m\u001b[38;5;124m\"\u001b[39m]\n",
      "File \u001b[1;32mc:\\.Work\\projects\\Media-Bias-Detector\\.venv\\Lib\\site-packages\\selenium\\webdriver\\remote\\webdriver.py:354\u001b[0m, in \u001b[0;36mWebDriver.execute\u001b[1;34m(self, driver_command, params)\u001b[0m\n\u001b[0;32m    352\u001b[0m response \u001b[38;5;241m=\u001b[39m \u001b[38;5;28mself\u001b[39m\u001b[38;5;241m.\u001b[39mcommand_executor\u001b[38;5;241m.\u001b[39mexecute(driver_command, params)\n\u001b[0;32m    353\u001b[0m \u001b[38;5;28;01mif\u001b[39;00m response:\n\u001b[1;32m--> 354\u001b[0m     \u001b[38;5;28;43mself\u001b[39;49m\u001b[38;5;241;43m.\u001b[39;49m\u001b[43merror_handler\u001b[49m\u001b[38;5;241;43m.\u001b[39;49m\u001b[43mcheck_response\u001b[49m\u001b[43m(\u001b[49m\u001b[43mresponse\u001b[49m\u001b[43m)\u001b[49m\n\u001b[0;32m    355\u001b[0m     response[\u001b[38;5;124m\"\u001b[39m\u001b[38;5;124mvalue\u001b[39m\u001b[38;5;124m\"\u001b[39m] \u001b[38;5;241m=\u001b[39m \u001b[38;5;28mself\u001b[39m\u001b[38;5;241m.\u001b[39m_unwrap_value(response\u001b[38;5;241m.\u001b[39mget(\u001b[38;5;124m\"\u001b[39m\u001b[38;5;124mvalue\u001b[39m\u001b[38;5;124m\"\u001b[39m, \u001b[38;5;28;01mNone\u001b[39;00m))\n\u001b[0;32m    356\u001b[0m     \u001b[38;5;28;01mreturn\u001b[39;00m response\n",
      "File \u001b[1;32mc:\\.Work\\projects\\Media-Bias-Detector\\.venv\\Lib\\site-packages\\selenium\\webdriver\\remote\\errorhandler.py:229\u001b[0m, in \u001b[0;36mErrorHandler.check_response\u001b[1;34m(self, response)\u001b[0m\n\u001b[0;32m    227\u001b[0m         alert_text \u001b[38;5;241m=\u001b[39m value[\u001b[38;5;124m\"\u001b[39m\u001b[38;5;124malert\u001b[39m\u001b[38;5;124m\"\u001b[39m]\u001b[38;5;241m.\u001b[39mget(\u001b[38;5;124m\"\u001b[39m\u001b[38;5;124mtext\u001b[39m\u001b[38;5;124m\"\u001b[39m)\n\u001b[0;32m    228\u001b[0m     \u001b[38;5;28;01mraise\u001b[39;00m exception_class(message, screen, stacktrace, alert_text)  \u001b[38;5;66;03m# type: ignore[call-arg]  # mypy is not smart enough here\u001b[39;00m\n\u001b[1;32m--> 229\u001b[0m \u001b[38;5;28;01mraise\u001b[39;00m exception_class(message, screen, stacktrace)\n",
      "\u001b[1;31mNoSuchWindowException\u001b[0m: Message: no such window: target window already closed\nfrom unknown error: web view not found\n  (Session info: chrome=128.0.6613.86)\nStacktrace:\n\tGetHandleVerifier [0x00007FF6E965B632+29090]\n\t(No symbol) [0x00007FF6E95CE6E9]\n\t(No symbol) [0x00007FF6E948B1CA]\n\t(No symbol) [0x00007FF6E945FAF5]\n\t(No symbol) [0x00007FF6E950E2E7]\n\t(No symbol) [0x00007FF6E9525EE1]\n\t(No symbol) [0x00007FF6E9506493]\n\t(No symbol) [0x00007FF6E94D09B1]\n\t(No symbol) [0x00007FF6E94D1B11]\n\tGetHandleVerifier [0x00007FF6E997883D+3294125]\n\tGetHandleVerifier [0x00007FF6E99C4423+3604371]\n\tGetHandleVerifier [0x00007FF6E99BA2E7+3563095]\n\tGetHandleVerifier [0x00007FF6E9716F16+797318]\n\t(No symbol) [0x00007FF6E95D986F]\n\t(No symbol) [0x00007FF6E95D5454]\n\t(No symbol) [0x00007FF6E95D55E0]\n\t(No symbol) [0x00007FF6E95C4A7F]\n\tBaseThreadInitThunk [0x00007FFC184D257D+29]\n\tRtlUserThreadStart [0x00007FFC19CAAF28+40]\n"
     ]
    }
   ],
   "source": [
    "left_bias = [\"nytimes\",\"cnn\",\"nbc\"] #done nytimes, cnn\n",
    "right_bias = [\"FoxNews\",\"DailyMail\",\"NYPost\"] #done FoxNews\n",
    "center_bias = [\"bbcnews\",\"Reuters\",\"APNews\"] #done bbcnews\n",
    "username = \"DailyMail\"  \n",
    "post_count_break = 1000\n",
    "\n",
    "create_fb_data_table()\n",
    "get_facebook_posts(username, post_count_break)\n"
   ]
  },
  {
   "cell_type": "code",
   "execution_count": null,
   "metadata": {},
   "outputs": [],
   "source": []
  }
 ],
 "metadata": {
  "kernelspec": {
   "display_name": "Python 3",
   "language": "python",
   "name": "python3"
  },
  "language_info": {
   "codemirror_mode": {
    "name": "ipython",
    "version": 3
   },
   "file_extension": ".py",
   "mimetype": "text/x-python",
   "name": "python",
   "nbconvert_exporter": "python",
   "pygments_lexer": "ipython3",
   "version": "3.11.6"
  }
 },
 "nbformat": 4,
 "nbformat_minor": 2
}
