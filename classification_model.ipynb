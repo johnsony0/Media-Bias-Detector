{
 "cells": [
  {
   "cell_type": "code",
   "execution_count": 141,
   "metadata": {},
   "outputs": [],
   "source": [
    "import os\n",
    "import pandas as pd\n",
    "import numpy as np\n",
    "import torch\n",
    "import pickle\n",
    "import onnx\n",
    "import torchtext\n",
    "from dotenv import load_dotenv\n",
    "from sqlalchemy import create_engine\n",
    "from torch import nn\n",
    "from torch.utils.data import Dataset, DataLoader, Subset\n",
    "from torchtext.data.utils import get_tokenizer\n",
    "from torch.nn.utils.rnn import pad_sequence\n",
    "from torchtext.vocab import build_vocab_from_iterator"
   ]
  },
  {
   "cell_type": "code",
   "execution_count": 142,
   "metadata": {},
   "outputs": [],
   "source": [
    "def get_data():\n",
    "  engine_name = f\"postgresql://{os.getenv('DB_USER')}:{os.getenv('DB_PASSWORD')}@{os.getenv('DB_HOST')}:{os.getenv('DB_PORT')}/{os.getenv('DB_NAME')}\"\n",
    "  engine = create_engine(engine_name)\n",
    "\n",
    "  query_sql = \"SELECT * FROM fb_data\"\n",
    "  df = pd.read_sql_query(query_sql, con=engine)\n",
    "  return df\n"
   ]
  },
  {
   "cell_type": "code",
   "execution_count": 143,
   "metadata": {},
   "outputs": [],
   "source": [
    "class FBData(Dataset):\n",
    "  def __init__(self,df):\n",
    "\n",
    "    tokenizer = get_tokenizer('basic_english')\n",
    "    def yield_tokens(data_iter):\n",
    "      for text in data_iter:\n",
    "        yield tokenizer(text)\n",
    "    vocab = build_vocab_from_iterator(yield_tokens(df['text']), specials=[\"<unk>\"])\n",
    "    vocab.set_default_index(vocab[\"<unk>\"])\n",
    "    \n",
    "    df.drop(columns=['id'])\n",
    "    \n",
    "    self.data = df\n",
    "    self.vocab = vocab\n",
    "    self.tokenizer = tokenizer\n",
    "  \n",
    "  def __len__(self):\n",
    "    return len(self.data)\n",
    "\n",
    "  def __getitem__(self,idx):\n",
    "    text = self.data['text'][idx]\n",
    "    label = self.data['source'][idx]\n",
    "\n",
    "    \n",
    "    tokenized_text = self.vocab(self.tokenizer(text))\n",
    "\n",
    "    SOURCES = {\n",
    "      0: [\"nytimes\",\"cnn\",\"nbc\"],\n",
    "      1: [\"FoxNews\",\"DailyMail\",\"NYPost\"],\n",
    "      2: [\"bbcnews\",\"Reuters\",\"APNews\"]\n",
    "    }\n",
    "\n",
    "    for class_label, sources in SOURCES.items():\n",
    "        if label in sources:\n",
    "            label = class_label\n",
    "            break\n",
    "    return torch.tensor(tokenized_text),torch.tensor(label)\n",
    "\n",
    "def collate_batch(batch):\n",
    "  text_list=[]\n",
    "  label_list=[]\n",
    "  for text,label in batch:\n",
    "    text_list.append(text)\n",
    "    label_list.append(label)\n",
    "\n",
    "  padded_texts = pad_sequence(text_list,batch_first=True,padding_value=0)\n",
    "  return padded_texts, label_list"
   ]
  },
  {
   "cell_type": "code",
   "execution_count": 144,
   "metadata": {},
   "outputs": [
    {
     "name": "stdout",
     "output_type": "stream",
     "text": [
      "tensor([[   2, 2224,  661, 4452, 2415,    2,   48,  113,   59,    5,   97,  865,\n",
      "          198,  286,   25, 3615, 2140,    4, 1456,  403,    8,  963, 4443,    1],\n",
      "        [   2,  229,   34,   77,  568,  264,   31, 2520,   17,  511,   32,    2,\n",
      "           34,  374,    7,  204,    1,    0,    0,    0,    0,    0,    0,    0]])\n",
      "[tensor(0), tensor(1)]\n",
      "tensor([[  10,  138,   40,    9,   23,   10,   24,   15,  190,   60,   66,  809,\n",
      "         1396,  423,  100,   40, 1321,   17, 2293,  322,    1,   15,    9,   40,\n",
      "          218,  310,    7, 2130,   45,   84,   75,  740,    4,  640, 2140,    4,\n",
      "         1456,   13, 1075, 4803, 1005,  403,    1,  133,   46,   18,   70,    1,\n",
      "         4203],\n",
      "        [  24,   15,   22,  539,    2,   35,   34,  221,    3,  456,    5,  285,\n",
      "          423,   32,   28, 2519,  118,    1,  169,   54,   94,   45,    2,   35,\n",
      "           52,   58,   18,   70,    1, 4194,    0,    0,    0,    0,    0,    0,\n",
      "            0,    0,    0,    0,    0,    0,    0,    0,    0,    0,    0,    0,\n",
      "            0]])\n",
      "[tensor(0), tensor(0)]\n"
     ]
    }
   ],
   "source": [
    "def main():\n",
    "  df = get_data()\n",
    "  dataset = FBData(df)\n",
    "  dataloader = DataLoader(dataset,batch_size=2,shuffle=True,collate_fn=collate_batch)\n",
    "main()\n",
    "  "
   ]
  }
 ],
 "metadata": {
  "kernelspec": {
   "display_name": ".venv",
   "language": "python",
   "name": "python3"
  },
  "language_info": {
   "codemirror_mode": {
    "name": "ipython",
    "version": 3
   },
   "file_extension": ".py",
   "mimetype": "text/x-python",
   "name": "python",
   "nbconvert_exporter": "python",
   "pygments_lexer": "ipython3",
   "version": "3.11.6"
  }
 },
 "nbformat": 4,
 "nbformat_minor": 2
}
