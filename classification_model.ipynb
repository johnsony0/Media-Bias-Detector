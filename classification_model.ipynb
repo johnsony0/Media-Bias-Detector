{
 "cells": [
  {
   "cell_type": "code",
   "execution_count": 180,
   "metadata": {},
   "outputs": [],
   "source": [
    "import os\n",
    "import re\n",
    "import pandas as pd\n",
    "import numpy as np\n",
    "import torch\n",
    "import onnx\n",
    "import matplotlib.pyplot as plt\n",
    "from sqlalchemy import create_engine\n",
    "from nostril import nonsense_detector as nd\n",
    "from torch import nn\n",
    "from torch.utils.data import Dataset, DataLoader, Subset\n",
    "from torch.nn.utils.rnn import pad_sequence\n",
    "from sklearn import utils\n",
    "from sklearn.model_selection import train_test_split\n",
    "from sklearn.metrics import confusion_matrix, ConfusionMatrixDisplay\n",
    "from gensim.models import Doc2Vec\n",
    "from gensim.utils import simple_preprocess\n",
    "from gensim.models.doc2vec import TaggedDocument\n",
    "from tqdm import tqdm"
   ]
  },
  {
   "cell_type": "code",
   "execution_count": 181,
   "metadata": {},
   "outputs": [],
   "source": [
    "# data\n",
    "def get_data():\n",
    "  engine_name = f\"postgresql://{os.getenv('DB_USER')}:{os.getenv('DB_PASSWORD')}@{os.getenv('DB_HOST')}:{os.getenv('DB_PORT')}/{os.getenv('DB_NAME')}\"\n",
    "  engine = create_engine(engine_name)\n",
    "\n",
    "  query_sql = \"SELECT * FROM fb_data\"\n",
    "  df = pd.read_sql_query(query_sql, con=engine)\n",
    "  return df\n",
    "\n",
    "def process_text(text):\n",
    "  TAG_RE = re.compile(r'<[^>]+>')\n",
    "  text = TAG_RE.sub('',text)\n",
    "  text = re.sub('[^a-zA-Z]', ' ', text)\n",
    "  text = re.sub(r\"\\s+[a-zA-Z]\\s+\", ' ', text)\n",
    "  text = re.sub(r'\\s+', ' ', text).strip()\n",
    "  return simple_preprocess(text, deacc=True)\n",
    "\n",
    "def map_label_to_class(label):\n",
    "  SOURCES = {\n",
    "    0: [\"nytimes\",\"cnn\",\"nbc\"],\n",
    "    1: [\"FoxNews\",\"DailyMail\",\"NYPost\"],\n",
    "    2: [\"bbcnews\",\"Reuters\",\"APNews\"]\n",
    "  }\n",
    "\n",
    "  for class_label, sources in SOURCES.items():\n",
    "      if label in sources:\n",
    "          return class_label\n",
    "  raise ValueError(f\"Label '{label}' not found in any source categories.\")\n",
    "\n",
    "\n",
    "def process_data(df):\n",
    "  df['text'] = df['text'].apply(process_text)\n",
    "  df['source'] = df['source'].apply(map_label_to_class)\n",
    "  df.drop(columns=['id'])\n",
    "\n",
    "  label_counts = df['source'].value_counts().sort_index()\n",
    "  plt.bar(label_counts.index, label_counts.values, color=['blue', 'red', 'green'])\n",
    "  plt.xticks(label_counts.index, ['left', 'right', 'center'])  \n",
    "  plt.xlabel('Label')\n",
    "  plt.ylabel('Count')\n",
    "  plt.title('Count of Labels')\n",
    "  plt.show()\n",
    "\n",
    "  return df\n"
   ]
  },
  {
   "cell_type": "code",
   "execution_count": 182,
   "metadata": {},
   "outputs": [],
   "source": [
    "# doc 2 vec\n",
    "def create_d2v(df):\n",
    "  print('Training doc2vec model')\n",
    "  tagged =  [TaggedDocument(words=text, tags=[str(i)]) for i, text in enumerate(df['text'])]\n",
    "  d2v_model = Doc2Vec(dm=1,vector_size=100,window=2,min_count=1,workers=4,epochs=20)\n",
    "  d2v_model.build_vocab(tagged)\n",
    "  d2v_model.train(utils.shuffle(tagged),total_examples=d2v_model.corpus_count, epochs=d2v_model.epochs)\n",
    "  print('Finished Training!!!')\n",
    "  return d2v_model"
   ]
  },
  {
   "cell_type": "code",
   "execution_count": 183,
   "metadata": {},
   "outputs": [],
   "source": [
    "# dataset initialization\n",
    "class FBData(Dataset):\n",
    "  def __init__(self,df,d2v_model):\n",
    "    df.drop(columns=['id'])\n",
    "    \n",
    "    self.data = df\n",
    "    self.d2v = d2v_model\n",
    "  \n",
    "  def __len__(self):\n",
    "    return len(self.data)\n",
    "\n",
    "  def __getitem__(self,idx):\n",
    "    text = self.data['text'][idx]\n",
    "    label = self.data['source'][idx]\n",
    "    vectorized_text = self.d2v.infer_vector(text)\n",
    "    return torch.tensor(vectorized_text),torch.tensor(label)\n"
   ]
  },
  {
   "cell_type": "code",
   "execution_count": 184,
   "metadata": {},
   "outputs": [],
   "source": [
    "# model\n",
    "\n",
    "class BiasClassificationModel(nn.Module):\n",
    "  def __init__(self,input_size,hidden_dim_1,hidden_dim_2,num_class):\n",
    "    super(BiasClassificationModel,self).__init__()\n",
    "    self.fc1 = nn.Linear(input_size,hidden_dim_1)\n",
    "    self.fc2 = nn.Linear(hidden_dim_1,hidden_dim_2)\n",
    "    self.fc3 = nn.Linear(hidden_dim_2,num_class)\n",
    "    self.activation = nn.ReLU()\n",
    "    self.softmax = nn.Softmax(dim=0)\n",
    "  \n",
    "  def forward(self,text):\n",
    "    output = self.activation(self.fc1(text))\n",
    "    output = self.activation(self.fc2(output))\n",
    "    output = self.activation(self.fc3(output))\n",
    "    return self.softmax(output)"
   ]
  },
  {
   "cell_type": "code",
   "execution_count": 185,
   "metadata": {},
   "outputs": [],
   "source": [
    "# split data \n",
    "def split_data(dataset,batch_size):\n",
    "  train_idx, test_idx = train_test_split(range(len(dataset)),test_size=0.2,random_state=42,shuffle=True)\n",
    "  train_dataset = Subset(dataset,train_idx)\n",
    "  test_dataset = Subset(dataset,test_idx)\n",
    "  train_loader = DataLoader(train_dataset, batch_size=batch_size, shuffle=True,collate_fn=collate_batch)\n",
    "  test_loader = DataLoader(test_dataset, batch_size=batch_size, shuffle=True,collate_fn=collate_batch)\n",
    "  return train_loader, test_loader"
   ]
  },
  {
   "cell_type": "code",
   "execution_count": 186,
   "metadata": {},
   "outputs": [],
   "source": [
    "# train and test\n",
    "def train(dataloader,model,optimizer,criterion,verbose):\n",
    "  model.train()\n",
    "  train_loss = 0\n",
    "  train_acc = 0\n",
    "  total_samples = 0\n",
    "\n",
    "  for text,label in tqdm(dataloader, disable=not verbose):\n",
    "    optimizer.zero_grad()\n",
    "\n",
    "    output = model(text)\n",
    "    loss = criterion(output,label)\n",
    "\n",
    "    train_loss += loss.item()\n",
    "    train_acc += (output.argmax(1) == label).sum().item()\n",
    "    total_samples += text.size(0)\n",
    "\n",
    "    loss.backward()\n",
    "    optimizer.step()\n",
    "\n",
    "  train_loss/=total_samples\n",
    "  train_acc/=total_samples\n",
    "\n",
    "  return train_loss, train_acc, model, optimizer, criterion\n",
    "\n",
    "def test(dataloader,model,criterion, verbose):\n",
    "  model.eval()\n",
    "  test_loss = 0\n",
    "  test_acc = 0\n",
    "  total_samples = 0\n",
    "  test_preds = []\n",
    "  test_labels = []\n",
    "\n",
    "  with torch.no_grad():\n",
    "    for text,label in tqdm(dataloader,disable=not verbose):\n",
    "      output = model(text)\n",
    "      loss = criterion(output,label)\n",
    "\n",
    "      test_loss += loss.item()\n",
    "      test_acc += (output.argmax(1) == label).sum().item()\n",
    "      total_samples += text.size(0)\n",
    "\n",
    "      test_preds.extend(output.argmax(1).cpu().numpy())\n",
    "      test_labels.extend(label.cpu().numpy())\n",
    "      \n",
    "  test_loss/=total_samples\n",
    "  test_acc/=total_samples\n",
    "  return test_loss,test_acc, test_preds, test_labels\n",
    "\n",
    "def train_test_loop(train_loader,test_loader,num_epochs,model,optimizer,criterion,verbose):\n",
    "  print('Training Starting')\n",
    "\n",
    "  train_losses = []\n",
    "  train_accs = []\n",
    "  test_losses = []\n",
    "  test_accs = []\n",
    "  for epoch in range(num_epochs):\n",
    "    train_loss, train_acc, model, optimizer, criterion = train(train_loader,model,optimizer,criterion,verbose)\n",
    "    train_losses.append(train_loss)\n",
    "    train_accs.append(train_acc)\n",
    "    if verbose: print(f'Training Epoch [{epoch + 1}/{num_epochs}], Loss: {train_loss:.4f}, Accuracy: {train_acc:.4f}')\n",
    "\n",
    "    test_loss, test_acc, test_preds, test_labels  = test(test_loader,model,criterion,verbose)\n",
    "    test_losses.append(test_loss)\n",
    "    test_accs.append(test_acc)\n",
    "    if verbose: print(f'Test Epoch [{epoch + 1}/{num_epochs}], Loss: {test_loss:.4f}, Accuracy: {test_acc:.4f}')\n",
    "  \n",
    "  print('Training Done, Final Testing Results Are As Shown:')\n",
    "\n",
    "  print(f'Training Epoch [{epoch + 1}/{num_epochs}], Loss: {train_loss:.4f}, Accuracy: {train_acc:.4f}')\n",
    "  print(f'Test Epoch [{epoch + 1}/{num_epochs}], Loss: {test_loss:.4f}, Accuracy: {test_acc:.4f}')\n",
    "\n",
    "  plt.plot(train_losses,label='Train Loss')\n",
    "  plt.plot(test_losses,label='Test Loss')\n",
    "  plt.xlabel('Epoch')\n",
    "  plt.ylabel('Loss')\n",
    "  plt.legend()\n",
    "  plt.show()\n",
    "\n",
    "  plt.plot(train_accs,label='Train Acc')\n",
    "  plt.plot(test_accs,label='Test Acc')\n",
    "  plt.xlabel('Epoch')\n",
    "  plt.ylabel('Accuracy %')\n",
    "  plt.legend()\n",
    "  plt.show()\n",
    "\n",
    "  cm = confusion_matrix(test_preds, test_labels)\n",
    "  disp = ConfusionMatrixDisplay(confusion_matrix=cm, display_labels=[0, 1, 2])\n",
    "  disp.plot(cmap='Blues')\n",
    "  plt.title('Confusion Matrix: Predicted vs Actual Labels')\n",
    "  plt.show()"
   ]
  },
  {
   "cell_type": "code",
   "execution_count": 187,
   "metadata": {},
   "outputs": [],
   "source": [
    "def predict_text(text,model,d2v_model):\n",
    "  tokenized_text = process_text(text)\n",
    "  vectorized_text = d2v_model.infer_vector(tokenized_text)\n",
    "  output = model(vectorized_text)\n",
    "  prediction = output.argmax(1).item()\n",
    "\n",
    "  if prediction == 0:\n",
    "    prediction = 'left'\n",
    "  elif prediction == 1:\n",
    "    prediction = 'right'\n",
    "  elif prediction == 2:\n",
    "    prediction = 'center'\n",
    "  else:\n",
    "    raise ValueError(f\"Prediction error.\")\n",
    "\n",
    "  print(f'The text provided leans towards the {prediction}')"
   ]
  },
  {
   "cell_type": "code",
   "execution_count": 188,
   "metadata": {},
   "outputs": [
    {
     "data": {
      "image/png": "[encoded data removed]",
      "text/plain": [
       "<Figure size 640x480 with 1 Axes>"
      ]
     },
     "metadata": {},
     "output_type": "display_data"
    },
    {
     "name": "stdout",
     "output_type": "stream",
     "text": [
      "Training doc2vec model\n",
      "Finished Training!!!\n",
      "100\n",
      "Training Starting\n"
     ]
    },
    {
     "name": "stderr",
     "output_type": "stream",
     "text": [
      "100%|██████████| 495/495 [00:01<00:00, 249.79it/s]\n"
     ]
    },
    {
     "name": "stdout",
     "output_type": "stream",
     "text": [
      "Training Epoch [1/10], Loss: 0.5398, Accuracy: 0.4475\n"
     ]
    },
    {
     "name": "stderr",
     "output_type": "stream",
     "text": [
      "100%|██████████| 124/124 [00:00<00:00, 387.37it/s]\n"
     ]
    },
    {
     "name": "stdout",
     "output_type": "stream",
     "text": [
      "Test Epoch [1/10], Loss: 0.5327, Accuracy: 0.4355\n"
     ]
    },
    {
     "name": "stderr",
     "output_type": "stream",
     "text": [
      "100%|██████████| 495/495 [00:02<00:00, 247.39it/s]\n"
     ]
    },
    {
     "name": "stdout",
     "output_type": "stream",
     "text": [
      "Training Epoch [2/10], Loss: 0.5295, Accuracy: 0.4525\n"
     ]
    },
    {
     "name": "stderr",
     "output_type": "stream",
     "text": [
      "100%|██████████| 124/124 [00:00<00:00, 383.35it/s]\n"
     ]
    },
    {
     "name": "stdout",
     "output_type": "stream",
     "text": [
      "Test Epoch [2/10], Loss: 0.5230, Accuracy: 0.4677\n"
     ]
    },
    {
     "name": "stderr",
     "output_type": "stream",
     "text": [
      "100%|██████████| 495/495 [00:02<00:00, 224.39it/s]\n"
     ]
    },
    {
     "name": "stdout",
     "output_type": "stream",
     "text": [
      "Training Epoch [3/10], Loss: 0.5150, Accuracy: 0.4778\n"
     ]
    },
    {
     "name": "stderr",
     "output_type": "stream",
     "text": [
      "100%|██████████| 124/124 [00:00<00:00, 373.44it/s]\n"
     ]
    },
    {
     "name": "stdout",
     "output_type": "stream",
     "text": [
      "Test Epoch [3/10], Loss: 0.5176, Accuracy: 0.4879\n"
     ]
    },
    {
     "name": "stderr",
     "output_type": "stream",
     "text": [
      "100%|██████████| 495/495 [00:02<00:00, 223.76it/s]\n"
     ]
    },
    {
     "name": "stdout",
     "output_type": "stream",
     "text": [
      "Training Epoch [4/10], Loss: 0.5206, Accuracy: 0.4717\n"
     ]
    },
    {
     "name": "stderr",
     "output_type": "stream",
     "text": [
      "100%|██████████| 124/124 [00:00<00:00, 309.06it/s]\n"
     ]
    },
    {
     "name": "stdout",
     "output_type": "stream",
     "text": [
      "Test Epoch [4/10], Loss: 0.5228, Accuracy: 0.4839\n"
     ]
    },
    {
     "name": "stderr",
     "output_type": "stream",
     "text": [
      "100%|██████████| 495/495 [00:02<00:00, 239.17it/s]\n"
     ]
    },
    {
     "name": "stdout",
     "output_type": "stream",
     "text": [
      "Training Epoch [5/10], Loss: 0.5255, Accuracy: 0.4869\n"
     ]
    },
    {
     "name": "stderr",
     "output_type": "stream",
     "text": [
      "100%|██████████| 124/124 [00:00<00:00, 389.84it/s]\n"
     ]
    },
    {
     "name": "stdout",
     "output_type": "stream",
     "text": [
      "Test Epoch [5/10], Loss: 0.5217, Accuracy: 0.4516\n"
     ]
    },
    {
     "name": "stderr",
     "output_type": "stream",
     "text": [
      " 88%|████████▊ | 436/495 [00:01<00:00, 254.88it/s]\n"
     ]
    },
    {
     "ename": "KeyboardInterrupt",
     "evalue": "",
     "output_type": "error",
     "traceback": [
      "\u001b[1;31m---------------------------------------------------------------------------\u001b[0m",
      "\u001b[1;31mKeyboardInterrupt\u001b[0m                         Traceback (most recent call last)",
      "Cell \u001b[1;32mIn[188], line 28\u001b[0m\n\u001b[0;32m     25\u001b[0m     predict_text(text,dataset,model,d2v_model)\n\u001b[0;32m     27\u001b[0m text \u001b[38;5;241m=\u001b[39m \u001b[38;5;124m\"\u001b[39m\u001b[38;5;124mBreaking News: Hersh Goldberg-Polin, an American-Israeli who had been held in Gaza by Hamas for nearly 11 months, died in captivity, President Biden announced.\u001b[39m\u001b[38;5;124m\"\u001b[39m\n\u001b[1;32m---> 28\u001b[0m \u001b[43mmain\u001b[49m\u001b[43m(\u001b[49m\u001b[43mtext\u001b[49m\u001b[43m,\u001b[49m\u001b[43mbatch_size\u001b[49m\u001b[38;5;241;43m=\u001b[39;49m\u001b[38;5;241;43m2\u001b[39;49m\u001b[43m,\u001b[49m\u001b[43mnum_epochs\u001b[49m\u001b[38;5;241;43m=\u001b[39;49m\u001b[38;5;241;43m10\u001b[39;49m\u001b[43m,\u001b[49m\u001b[43mverbose\u001b[49m\u001b[38;5;241;43m=\u001b[39;49m\u001b[38;5;28;43;01mTrue\u001b[39;49;00m\u001b[43m)\u001b[49m\n",
      "Cell \u001b[1;32mIn[188], line 22\u001b[0m, in \u001b[0;36mmain\u001b[1;34m(text, batch_size, num_epochs, verbose)\u001b[0m\n\u001b[0;32m     19\u001b[0m optimizer \u001b[38;5;241m=\u001b[39m torch\u001b[38;5;241m.\u001b[39moptim\u001b[38;5;241m.\u001b[39mAdam(model\u001b[38;5;241m.\u001b[39mparameters(),lr\u001b[38;5;241m=\u001b[39m\u001b[38;5;241m1e-3\u001b[39m)\n\u001b[0;32m     20\u001b[0m criterion \u001b[38;5;241m=\u001b[39m torch\u001b[38;5;241m.\u001b[39mnn\u001b[38;5;241m.\u001b[39mCrossEntropyLoss()\n\u001b[1;32m---> 22\u001b[0m \u001b[43mtrain_test_loop\u001b[49m\u001b[43m(\u001b[49m\u001b[43mtrain_loader\u001b[49m\u001b[43m,\u001b[49m\u001b[43mtest_loader\u001b[49m\u001b[43m,\u001b[49m\u001b[43mnum_epochs\u001b[49m\u001b[43m,\u001b[49m\u001b[43mmodel\u001b[49m\u001b[43m,\u001b[49m\u001b[43moptimizer\u001b[49m\u001b[43m,\u001b[49m\u001b[43mcriterion\u001b[49m\u001b[43m,\u001b[49m\u001b[43mverbose\u001b[49m\u001b[43m)\u001b[49m\n\u001b[0;32m     24\u001b[0m \u001b[38;5;28;01mif\u001b[39;00m(text \u001b[38;5;129;01mis\u001b[39;00m \u001b[38;5;129;01mnot\u001b[39;00m \u001b[38;5;28;01mNone\u001b[39;00m):\n\u001b[0;32m     25\u001b[0m   predict_text(text,dataset,model,d2v_model)\n",
      "Cell \u001b[1;32mIn[186], line 58\u001b[0m, in \u001b[0;36mtrain_test_loop\u001b[1;34m(train_loader, test_loader, num_epochs, model, optimizer, criterion, verbose)\u001b[0m\n\u001b[0;32m     56\u001b[0m test_accs \u001b[38;5;241m=\u001b[39m []\n\u001b[0;32m     57\u001b[0m \u001b[38;5;28;01mfor\u001b[39;00m epoch \u001b[38;5;129;01min\u001b[39;00m \u001b[38;5;28mrange\u001b[39m(num_epochs):\n\u001b[1;32m---> 58\u001b[0m   train_loss, train_acc, model, optimizer, criterion \u001b[38;5;241m=\u001b[39m \u001b[43mtrain\u001b[49m\u001b[43m(\u001b[49m\u001b[43mtrain_loader\u001b[49m\u001b[43m,\u001b[49m\u001b[43mmodel\u001b[49m\u001b[43m,\u001b[49m\u001b[43moptimizer\u001b[49m\u001b[43m,\u001b[49m\u001b[43mcriterion\u001b[49m\u001b[43m,\u001b[49m\u001b[43mverbose\u001b[49m\u001b[43m)\u001b[49m\n\u001b[0;32m     59\u001b[0m   train_losses\u001b[38;5;241m.\u001b[39mappend(train_loss)\n\u001b[0;32m     60\u001b[0m   train_accs\u001b[38;5;241m.\u001b[39mappend(train_acc)\n",
      "Cell \u001b[1;32mIn[186], line 19\u001b[0m, in \u001b[0;36mtrain\u001b[1;34m(dataloader, model, optimizer, criterion, verbose)\u001b[0m\n\u001b[0;32m     16\u001b[0m   total_samples \u001b[38;5;241m+\u001b[39m\u001b[38;5;241m=\u001b[39m text\u001b[38;5;241m.\u001b[39msize(\u001b[38;5;241m0\u001b[39m)\n\u001b[0;32m     18\u001b[0m   loss\u001b[38;5;241m.\u001b[39mbackward()\n\u001b[1;32m---> 19\u001b[0m   \u001b[43moptimizer\u001b[49m\u001b[38;5;241;43m.\u001b[39;49m\u001b[43mstep\u001b[49m\u001b[43m(\u001b[49m\u001b[43m)\u001b[49m\n\u001b[0;32m     21\u001b[0m train_loss\u001b[38;5;241m/\u001b[39m\u001b[38;5;241m=\u001b[39mtotal_samples\n\u001b[0;32m     22\u001b[0m train_acc\u001b[38;5;241m/\u001b[39m\u001b[38;5;241m=\u001b[39mtotal_samples\n",
      "File \u001b[1;32mc:\\.Work\\projects\\Media-Bias-Detector\\.venv\\Lib\\site-packages\\torch\\optim\\optimizer.py:373\u001b[0m, in \u001b[0;36mOptimizer.profile_hook_step.<locals>.wrapper\u001b[1;34m(*args, **kwargs)\u001b[0m\n\u001b[0;32m    371\u001b[0m \u001b[38;5;28mself\u001b[39m \u001b[38;5;241m=\u001b[39m cast(Optimizer, \u001b[38;5;28mself\u001b[39m)\n\u001b[0;32m    372\u001b[0m profile_name \u001b[38;5;241m=\u001b[39m \u001b[38;5;124mf\u001b[39m\u001b[38;5;124m\"\u001b[39m\u001b[38;5;124mOptimizer.step#\u001b[39m\u001b[38;5;132;01m{\u001b[39;00m\u001b[38;5;28mself\u001b[39m\u001b[38;5;241m.\u001b[39m\u001b[38;5;18m__class__\u001b[39m\u001b[38;5;241m.\u001b[39m\u001b[38;5;18m__name__\u001b[39m\u001b[38;5;132;01m}\u001b[39;00m\u001b[38;5;124m.step\u001b[39m\u001b[38;5;124m\"\u001b[39m\n\u001b[1;32m--> 373\u001b[0m \u001b[43m\u001b[49m\u001b[38;5;28;43;01mwith\u001b[39;49;00m\u001b[43m \u001b[49m\u001b[43mtorch\u001b[49m\u001b[38;5;241;43m.\u001b[39;49m\u001b[43mautograd\u001b[49m\u001b[38;5;241;43m.\u001b[39;49m\u001b[43mprofiler\u001b[49m\u001b[38;5;241;43m.\u001b[39;49m\u001b[43mrecord_function\u001b[49m\u001b[43m(\u001b[49m\u001b[43mprofile_name\u001b[49m\u001b[43m)\u001b[49m\u001b[43m:\u001b[49m\n\u001b[0;32m    374\u001b[0m \u001b[43m    \u001b[49m\u001b[38;5;66;43;03m# call optimizer step pre hooks\u001b[39;49;00m\n\u001b[0;32m    375\u001b[0m \u001b[43m    \u001b[49m\u001b[38;5;28;43;01mfor\u001b[39;49;00m\u001b[43m \u001b[49m\u001b[43mpre_hook\u001b[49m\u001b[43m \u001b[49m\u001b[38;5;129;43;01min\u001b[39;49;00m\u001b[43m \u001b[49m\u001b[43mchain\u001b[49m\u001b[43m(\u001b[49m\u001b[43m_global_optimizer_pre_hooks\u001b[49m\u001b[38;5;241;43m.\u001b[39;49m\u001b[43mvalues\u001b[49m\u001b[43m(\u001b[49m\u001b[43m)\u001b[49m\u001b[43m,\u001b[49m\u001b[43m \u001b[49m\u001b[38;5;28;43mself\u001b[39;49m\u001b[38;5;241;43m.\u001b[39;49m\u001b[43m_optimizer_step_pre_hooks\u001b[49m\u001b[38;5;241;43m.\u001b[39;49m\u001b[43mvalues\u001b[49m\u001b[43m(\u001b[49m\u001b[43m)\u001b[49m\u001b[43m)\u001b[49m\u001b[43m:\u001b[49m\n\u001b[0;32m    376\u001b[0m \u001b[43m        \u001b[49m\u001b[43mresult\u001b[49m\u001b[43m \u001b[49m\u001b[38;5;241;43m=\u001b[39;49m\u001b[43m \u001b[49m\u001b[43mpre_hook\u001b[49m\u001b[43m(\u001b[49m\u001b[38;5;28;43mself\u001b[39;49m\u001b[43m,\u001b[49m\u001b[43m \u001b[49m\u001b[43margs\u001b[49m\u001b[43m,\u001b[49m\u001b[43m \u001b[49m\u001b[43mkwargs\u001b[49m\u001b[43m)\u001b[49m\n",
      "File \u001b[1;32mc:\\.Work\\projects\\Media-Bias-Detector\\.venv\\Lib\\site-packages\\torch\\autograd\\profiler.py:605\u001b[0m, in \u001b[0;36mrecord_function.__enter__\u001b[1;34m(self)\u001b[0m\n\u001b[0;32m    604\u001b[0m \u001b[38;5;28;01mdef\u001b[39;00m \u001b[38;5;21m__enter__\u001b[39m(\u001b[38;5;28mself\u001b[39m):\n\u001b[1;32m--> 605\u001b[0m     \u001b[38;5;28mself\u001b[39m\u001b[38;5;241m.\u001b[39mrecord \u001b[38;5;241m=\u001b[39m \u001b[43mtorch\u001b[49m\u001b[38;5;241;43m.\u001b[39;49m\u001b[43mops\u001b[49m\u001b[38;5;241;43m.\u001b[39;49m\u001b[43mprofiler\u001b[49m\u001b[38;5;241;43m.\u001b[39;49m\u001b[43m_record_function_enter_new\u001b[49m\u001b[43m(\u001b[49m\n\u001b[0;32m    606\u001b[0m \u001b[43m        \u001b[49m\u001b[38;5;28;43mself\u001b[39;49m\u001b[38;5;241;43m.\u001b[39;49m\u001b[43mname\u001b[49m\u001b[43m,\u001b[49m\u001b[43m \u001b[49m\u001b[38;5;28;43mself\u001b[39;49m\u001b[38;5;241;43m.\u001b[39;49m\u001b[43margs\u001b[49m\n\u001b[0;32m    607\u001b[0m \u001b[43m    \u001b[49m\u001b[43m)\u001b[49m\n\u001b[0;32m    608\u001b[0m     \u001b[38;5;28;01mreturn\u001b[39;00m \u001b[38;5;28mself\u001b[39m\n",
      "File \u001b[1;32mc:\\.Work\\projects\\Media-Bias-Detector\\.venv\\Lib\\site-packages\\torch\\_ops.py:755\u001b[0m, in \u001b[0;36mOpOverloadPacket.__call__\u001b[1;34m(self, *args, **kwargs)\u001b[0m\n\u001b[0;32m    750\u001b[0m \u001b[38;5;28;01mdef\u001b[39;00m \u001b[38;5;21m__call__\u001b[39m(\u001b[38;5;28mself\u001b[39m, \u001b[38;5;241m*\u001b[39margs, \u001b[38;5;241m*\u001b[39m\u001b[38;5;241m*\u001b[39mkwargs):\n\u001b[0;32m    751\u001b[0m     \u001b[38;5;66;03m# overloading __call__ to ensure torch.ops.foo.bar()\u001b[39;00m\n\u001b[0;32m    752\u001b[0m     \u001b[38;5;66;03m# is still callable from JIT\u001b[39;00m\n\u001b[0;32m    753\u001b[0m     \u001b[38;5;66;03m# We save the function ptr as the `op` attribute on\u001b[39;00m\n\u001b[0;32m    754\u001b[0m     \u001b[38;5;66;03m# OpOverloadPacket to access it here.\u001b[39;00m\n\u001b[1;32m--> 755\u001b[0m     \u001b[38;5;28;01mreturn\u001b[39;00m \u001b[38;5;28;43mself\u001b[39;49m\u001b[38;5;241;43m.\u001b[39;49m\u001b[43m_op\u001b[49m\u001b[43m(\u001b[49m\u001b[38;5;241;43m*\u001b[39;49m\u001b[43margs\u001b[49m\u001b[43m,\u001b[49m\u001b[43m \u001b[49m\u001b[38;5;241;43m*\u001b[39;49m\u001b[38;5;241;43m*\u001b[39;49m\u001b[43m(\u001b[49m\u001b[43mkwargs\u001b[49m\u001b[43m \u001b[49m\u001b[38;5;129;43;01mor\u001b[39;49;00m\u001b[43m \u001b[49m\u001b[43m{\u001b[49m\u001b[43m}\u001b[49m\u001b[43m)\u001b[49m\u001b[43m)\u001b[49m\n",
      "\u001b[1;31mKeyboardInterrupt\u001b[0m: "
     ]
    }
   ],
   "source": [
    "def main(text,batch_size,num_epochs,verbose):\n",
    "\n",
    "  if nd.nonsense(text):\n",
    "    raise Exception(\"Gibberish Text Detected\") \n",
    "  \n",
    "  df = get_data()\n",
    "  df = process_data(df)\n",
    "  d2v_model = create_d2v(df)\n",
    "  dataset = FBData(df,d2v_model)\n",
    "  train_loader, test_loader = split_data(dataset,batch_size)\n",
    "\n",
    "  input_size = d2v_model.vector_size\n",
    "  print(input_size)\n",
    "  hidden_dim_1 = 64\n",
    "  hidden_dim_2 = 32\n",
    "  num_classes = 3\n",
    "\n",
    "  model = BiasClassificationModel(input_size,hidden_dim_1,hidden_dim_2,num_classes)\n",
    "  optimizer = torch.optim.Adam(model.parameters(),lr=1e-3)\n",
    "  criterion = torch.nn.CrossEntropyLoss()\n",
    "\n",
    "  train_test_loop(train_loader,test_loader,num_epochs,model,optimizer,criterion,verbose)\n",
    "\n",
    "  if(text is not None):\n",
    "    predict_text(text,dataset,model,d2v_model)\n",
    "\n",
    "text = \"Breaking News: Hersh Goldberg-Polin, an American-Israeli who had been held in Gaza by Hamas for nearly 11 months, died in captivity, President Biden announced.\"\n",
    "main(text,batch_size=2,num_epochs=10,verbose=True)"
   ]
  }
 ],
 "metadata": {
  "kernelspec": {
   "display_name": ".venv",
   "language": "python",
   "name": "python3"
  },
  "language_info": {
   "codemirror_mode": {
    "name": "ipython",
    "version": 3
   },
   "file_extension": ".py",
   "mimetype": "text/x-python",
   "name": "python",
   "nbconvert_exporter": "python",
   "pygments_lexer": "ipython3",
   "version": "3.11.6"
  }
 },
 "nbformat": 4,
 "nbformat_minor": 2
}
